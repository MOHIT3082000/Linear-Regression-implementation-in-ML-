{
 "cells": [
  {
   "cell_type": "code",
   "execution_count": 67,
   "id": "1ec34d13-e7a2-46e3-8e2d-5d2878dc157f",
   "metadata": {},
   "outputs": [
    {
     "name": "stdout",
     "output_type": "stream",
     "text": [
      "[0.72604907 1.76743383 2.71092161 2.83514727 2.60695807]\n"
     ]
    }
   ],
   "source": [
    "import numpy as np\n",
    "import pandas as pd\n",
    "import matplotlib.pyplot as plt\n",
    "from sklearn.datasets import fetch_california_housing\n",
    "from sklearn.model_selection import train_test_split\n",
    "from sklearn.preprocessing import StandardScaler\n",
    "from sklearn.linear_model import LinearRegression\n",
    "\n",
    "# Fetch the dataset\n",
    "housing = fetch_california_housing()\n",
    "\n",
    "# Convert to a DataFrame\n",
    "df = pd.DataFrame(housing.data, columns=housing.feature_names)\n",
    "\n",
    "# Add the target column\n",
    "df['Target'] = housing.target\n",
    "\n",
    "# Now you can assign x and y\n",
    "x = df.drop(columns='Target')  # Features\n",
    "y = df['Target']  # Target variable\n",
    "\n",
    "# Split the data into training and testing sets\n",
    "x_train, x_test, y_train, y_test = train_test_split(x, y, test_size=0.30, random_state=42)\n",
    "\n",
    "# Standardize the features\n",
    "scaler = StandardScaler()\n",
    "x_train = scaler.fit_transform(x_train)  # This converts x_train to a NumPy array\n",
    "x_test = scaler.transform(x_test)  # This also returns a NumPy array\n",
    "\n",
    "# Initialize the model\n",
    "model = LinearRegression()\n",
    "\n",
    "# Fit the model using the scaled NumPy arrays\n",
    "model.fit(x_train, y_train)\n",
    "\n",
    "# Predict using the test data\n",
    "predictions = model.predict(x_test)\n",
    "\n",
    "# Check the first few predictions\n",
    "print(predictions[:5])\n",
    "\n",
    "# You can convert back to DataFrame if needed for other analysis\n",
    "x_train_df = pd.DataFrame(x_train, columns=x.columns)\n",
    "x_test_df = pd.DataFrame(x_test, columns=x.columns)\n"
   ]
  },
  {
   "cell_type": "code",
   "execution_count": 71,
   "id": "294665ff-1674-4f45-a738-c29ae52696e8",
   "metadata": {},
   "outputs": [
    {
     "data": {
      "image/png": "[encoded data removed]",
      "text/plain": [
       "<Figure size 640x480 with 1 Axes>"
      ]
     },
     "metadata": {},
     "output_type": "display_data"
    }
   ],
   "source": [
    "import seaborn as sns\n",
    "import matplotlib.pyplot as plt\n",
    "\n",
    "# Calculate the residuals (differences between predictions and actual values)\n",
    "residuals = reg_pred - y_test\n",
    "\n",
    "# Plot the distribution of the residuals using histplot or kdeplot\n",
    "sns.histplot(residuals, kde=True)  # kde=True adds the kernel density estimate\n",
    "\n",
    "# Alternatively, for just KDE:\n",
    "# sns.kdeplot(residuals)\n",
    "\n",
    "# Show the plot\n",
    "plt.title(\"Distribution of Residuals\")\n",
    "plt.xlabel(\"Residuals\")\n",
    "plt.ylabel(\"Frequency\")\n",
    "plt.show()\n"
   ]
  },
  {
   "cell_type": "code",
   "execution_count": 72,
   "id": "4c5f7ce5-303a-4682-b5eb-a2d8b0e55e49",
   "metadata": {},
   "outputs": [],
   "source": [
    "from sklearn.metrics import r2_score"
   ]
  },
  {
   "cell_type": "code",
   "execution_count": 73,
   "id": "75aa3262-8060-4ee1-9ea2-e788bc02389a",
   "metadata": {},
   "outputs": [],
   "source": [
    "score=r2_score(reg_pred,y_test)"
   ]
  },
  {
   "cell_type": "code",
   "execution_count": 74,
   "id": "873cdd3f-c135-4a14-ab1b-780e0d43250d",
   "metadata": {},
   "outputs": [
    {
     "data": {
      "text/plain": [
       "0.3451339380943985"
      ]
     },
     "execution_count": 74,
     "metadata": {},
     "output_type": "execute_result"
    }
   ],
   "source": [
    "score"
   ]
  },
  {
   "cell_type": "code",
   "execution_count": null,
   "id": "56eb3375-c103-4585-895e-e24a04d60cca",
   "metadata": {},
   "outputs": [],
   "source": []
  },
  {
   "cell_type": "code",
   "execution_count": null,
   "id": "9548deb7-22c6-4936-a006-350c17209733",
   "metadata": {},
   "outputs": [],
   "source": []
  },
  {
   "cell_type": "code",
   "execution_count": null,
   "id": "514314b3-d08f-407a-a6cb-0792c9321e75",
   "metadata": {},
   "outputs": [],
   "source": []
  },
  {
   "cell_type": "code",
   "execution_count": null,
   "id": "25549a26-bea8-46e5-81b9-1a6dc5719b51",
   "metadata": {},
   "outputs": [],
   "source": []
  },
  {
   "cell_type": "code",
   "execution_count": null,
   "id": "b5ebf96e-1933-4a51-95c3-b6404a04e7cb",
   "metadata": {},
   "outputs": [],
   "source": []
  },
  {
   "cell_type": "code",
   "execution_count": null,
   "id": "a5a3ef67-20b8-40f8-9ce1-ed7a8f6b77c8",
   "metadata": {},
   "outputs": [],
   "source": []
  },
  {
   "cell_type": "code",
   "execution_count": null,
   "id": "304193d1-36bf-4590-bcb3-c87dc9b5e0f1",
   "metadata": {},
   "outputs": [],
   "source": []
  },
  {
   "cell_type": "code",
   "execution_count": null,
   "id": "ee533ccb-73b5-48a5-ac3d-59321ff835ea",
   "metadata": {},
   "outputs": [],
   "source": []
  },
  {
   "cell_type": "code",
   "execution_count": null,
   "id": "724ef0ec-37e7-47b1-a354-bbdacbde3eab",
   "metadata": {},
   "outputs": [],
   "source": []
  },
  {
   "cell_type": "code",
   "execution_count": null,
   "id": "9bc75c14-9974-4bdb-b96c-5254bd5ee35c",
   "metadata": {},
   "outputs": [],
   "source": []
  },
  {
   "cell_type": "code",
   "execution_count": null,
   "id": "7903a98c-1b3c-4be6-aaa8-bb01c5ea07c2",
   "metadata": {},
   "outputs": [],
   "source": []
  },
  {
   "cell_type": "code",
   "execution_count": null,
   "id": "422f0435-d67d-4b68-b1fb-06382712ba53",
   "metadata": {},
   "outputs": [],
   "source": []
  },
  {
   "cell_type": "code",
   "execution_count": null,
   "id": "f87d2b7d-331a-40fb-a441-fe01af4f2d3c",
   "metadata": {},
   "outputs": [],
   "source": []
  },
  {
   "cell_type": "code",
   "execution_count": null,
   "id": "284d0b43-3084-4a37-b22c-56b96c620da3",
   "metadata": {},
   "outputs": [],
   "source": []
  },
  {
   "cell_type": "code",
   "execution_count": null,
   "id": "06037eec-85ae-4a1e-96d0-c4ac4a369fc7",
   "metadata": {},
   "outputs": [],
   "source": []
  },
  {
   "cell_type": "code",
   "execution_count": null,
   "id": "3789b012-fb49-4f82-bb31-dc9b468814a2",
   "metadata": {},
   "outputs": [],
   "source": []
  },
  {
   "cell_type": "code",
   "execution_count": null,
   "id": "e15d1799-b493-4e0a-be4c-3608b7fea833",
   "metadata": {},
   "outputs": [],
   "source": []
  },
  {
   "cell_type": "code",
   "execution_count": null,
   "id": "51ab6742-0cf6-4be8-966d-fbb237ea1c5a",
   "metadata": {},
   "outputs": [],
   "source": []
  },
  {
   "cell_type": "code",
   "execution_count": null,
   "id": "4bd87059-8125-4980-ae3c-6295601e0d77",
   "metadata": {},
   "outputs": [],
   "source": []
  },
  {
   "cell_type": "code",
   "execution_count": null,
   "id": "5d581339-6110-4aa6-89b4-ab33e5791dec",
   "metadata": {},
   "outputs": [],
   "source": []
  },
  {
   "cell_type": "code",
   "execution_count": null,
   "id": "9021ad47-ba60-4883-883f-08138659e7e4",
   "metadata": {},
   "outputs": [],
   "source": []
  },
  {
   "cell_type": "code",
   "execution_count": null,
   "id": "20a70e7f-ce6e-46d0-8202-51f83cca4581",
   "metadata": {},
   "outputs": [],
   "source": []
  },
  {
   "cell_type": "code",
   "execution_count": null,
   "id": "43e84368-1924-40db-b9ee-d438a6b58648",
   "metadata": {},
   "outputs": [],
   "source": []
  },
  {
   "cell_type": "code",
   "execution_count": null,
   "id": "183b0a7f-31aa-4bc4-87a0-b74a2c5d19a2",
   "metadata": {},
   "outputs": [],
   "source": []
  },
  {
   "cell_type": "code",
   "execution_count": null,
   "id": "88db1cdd-3c20-41eb-bbec-2598954aac8c",
   "metadata": {},
   "outputs": [],
   "source": []
  },
  {
   "cell_type": "code",
   "execution_count": null,
   "id": "d7e09cb1-54fd-4dcf-9849-025a4ad7e7c2",
   "metadata": {},
   "outputs": [],
   "source": []
  },
  {
   "cell_type": "code",
   "execution_count": null,
   "id": "122bf994-7be7-4774-af9f-ed496983636b",
   "metadata": {},
   "outputs": [],
   "source": []
  },
  {
   "cell_type": "code",
   "execution_count": null,
   "id": "7803bd67-652f-48e1-bdf2-7a062e0b7972",
   "metadata": {},
   "outputs": [],
   "source": []
  },
  {
   "cell_type": "code",
   "execution_count": null,
   "id": "fc5e019d-982c-4dab-8b43-5d25b8521575",
   "metadata": {},
   "outputs": [],
   "source": []
  },
  {
   "cell_type": "code",
   "execution_count": null,
   "id": "5179d977-6fa2-481f-9789-2ddbe75aa8b7",
   "metadata": {},
   "outputs": [],
   "source": []
  },
  {
   "cell_type": "code",
   "execution_count": null,
   "id": "a66c1c4b-c37b-461d-8001-e667b3fa08f6",
   "metadata": {},
   "outputs": [],
   "source": []
  },
  {
   "cell_type": "code",
   "execution_count": null,
   "id": "95ffef12-7fee-45db-988d-d9fceaa60507",
   "metadata": {},
   "outputs": [],
   "source": []
  },
  {
   "cell_type": "code",
   "execution_count": null,
   "id": "e5869206-3b45-47bb-9f39-c286d6501e9c",
   "metadata": {},
   "outputs": [],
   "source": []
  },
  {
   "cell_type": "code",
   "execution_count": null,
   "id": "aed34895-c429-4cfb-93fe-9818fc991b1b",
   "metadata": {},
   "outputs": [],
   "source": []
  },
  {
   "cell_type": "code",
   "execution_count": null,
   "id": "122a6a2f-7a5d-4ccd-873a-a30a78cd5030",
   "metadata": {},
   "outputs": [],
   "source": []
  },
  {
   "cell_type": "code",
   "execution_count": null,
   "id": "22fb2e55-6d94-4743-bbef-e1ff85b44b1a",
   "metadata": {},
   "outputs": [],
   "source": []
  },
  {
   "cell_type": "code",
   "execution_count": null,
   "id": "e4b8efe7-fc48-40e0-8f33-dae77cb46e15",
   "metadata": {},
   "outputs": [],
   "source": []
  },
  {
   "cell_type": "code",
   "execution_count": null,
   "id": "ba2f277b-402d-494b-a0f2-f00e10d70900",
   "metadata": {},
   "outputs": [],
   "source": []
  },
  {
   "cell_type": "code",
   "execution_count": null,
   "id": "9c8bda17-5956-40ab-a031-46b578d4b33a",
   "metadata": {},
   "outputs": [],
   "source": []
  },
  {
   "cell_type": "code",
   "execution_count": null,
   "id": "881f0b05-52bb-456e-b55f-853f2d86e64a",
   "metadata": {},
   "outputs": [],
   "source": []
  },
  {
   "cell_type": "code",
   "execution_count": null,
   "id": "45686744-1423-462b-8784-21c6df12b985",
   "metadata": {},
   "outputs": [],
   "source": []
  },
  {
   "cell_type": "code",
   "execution_count": null,
   "id": "8befed55-1fcf-43d4-b2dc-86f618c7efe1",
   "metadata": {},
   "outputs": [],
   "source": []
  },
  {
   "cell_type": "code",
   "execution_count": null,
   "id": "61506a58-996e-49d5-8f07-c1dfefcf00d3",
   "metadata": {},
   "outputs": [],
   "source": []
  },
  {
   "cell_type": "code",
   "execution_count": null,
   "id": "84a68df3-8b13-420e-af45-7538bdb99c73",
   "metadata": {},
   "outputs": [],
   "source": []
  },
  {
   "cell_type": "code",
   "execution_count": null,
   "id": "4b5553a5-b418-41f8-bc0c-f9c1ad69ec78",
   "metadata": {},
   "outputs": [],
   "source": []
  },
  {
   "cell_type": "code",
   "execution_count": null,
   "id": "ffb57274-5d3a-4dd0-8c22-17bb57a95449",
   "metadata": {},
   "outputs": [],
   "source": []
  },
  {
   "cell_type": "code",
   "execution_count": null,
   "id": "5d60d6cf-4ed5-4bb3-9dae-2e89e4508493",
   "metadata": {},
   "outputs": [],
   "source": []
  },
  {
   "cell_type": "code",
   "execution_count": null,
   "id": "a6fc2c83-0a4c-4a1b-8433-45a295307036",
   "metadata": {},
   "outputs": [],
   "source": []
  },
  {
   "cell_type": "code",
   "execution_count": null,
   "id": "f08fe55f-7eb9-40fd-985d-86416b84e6b5",
   "metadata": {},
   "outputs": [],
   "source": []
  },
  {
   "cell_type": "code",
   "execution_count": null,
   "id": "b41869eb-d966-4474-b114-9cb784f47d02",
   "metadata": {},
   "outputs": [],
   "source": []
  },
  {
   "cell_type": "code",
   "execution_count": null,
   "id": "9f835f4e-92b2-4021-99db-aba9812841d6",
   "metadata": {},
   "outputs": [],
   "source": []
  },
  {
   "cell_type": "code",
   "execution_count": null,
   "id": "a9339a8a-10e6-425b-8af0-0ba3eefa5b5e",
   "metadata": {},
   "outputs": [],
   "source": []
  },
  {
   "cell_type": "code",
   "execution_count": null,
   "id": "5179e7e8-9c42-4013-a215-848940f9fc79",
   "metadata": {},
   "outputs": [],
   "source": []
  },
  {
   "cell_type": "code",
   "execution_count": null,
   "id": "e7994d8c-14f9-4343-9fed-92d834862c7e",
   "metadata": {},
   "outputs": [],
   "source": []
  },
  {
   "cell_type": "code",
   "execution_count": null,
   "id": "2dc326a8-cea2-4176-a638-3d6b3ff10948",
   "metadata": {},
   "outputs": [],
   "source": []
  },
  {
   "cell_type": "code",
   "execution_count": null,
   "id": "b7049ff9-f522-4312-a234-cdb211e80ed3",
   "metadata": {},
   "outputs": [],
   "source": []
  },
  {
   "cell_type": "code",
   "execution_count": null,
   "id": "4b22b046-436e-4884-bba9-5d417229d0b8",
   "metadata": {},
   "outputs": [],
   "source": []
  }
 ],
 "metadata": {
  "kernelspec": {
   "display_name": "Python 3 (ipykernel)",
   "language": "python",
   "name": "python3"
  },
  "language_info": {
   "codemirror_mode": {
    "name": "ipython",
    "version": 3
   },
   "file_extension": ".py",
   "mimetype": "text/x-python",
   "name": "python",
   "nbconvert_exporter": "python",
   "pygments_lexer": "ipython3",
   "version": "3.11.4"
  }
 },
 "nbformat": 4,
 "nbformat_minor": 5
}
